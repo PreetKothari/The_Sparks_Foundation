{
 "cells": [
  {
   "cell_type": "markdown",
   "id": "a42e60ea",
   "metadata": {},
   "source": [
    "<h2 align=\"center\"> Task 1: Prediction Using Supervised ML </h2>\n",
    "<h4 align=\"center\"> Preet Kothari </h4>\n",
    "<h3 align=\"center\"> The Sparks Fundation - GRIP </h3>\n",
    "\n",
    "* Problem: Predict the percentage of a student based on the number of study hours. What will be predicted score if a student studies for 9.25 hrs/ day?\n",
    "* The dataset can be found at: http://bit.ly/w-data"
   ]
  },
  {
   "cell_type": "markdown",
   "id": "4f4e1712",
   "metadata": {
    "id": "eYnlH7RMV70d"
   },
   "source": [
    "### Importing Libraries"
   ]
  },
  {
   "cell_type": "code",
   "execution_count": 1,
   "id": "8597c0f2",
   "metadata": {
    "id": "atfwipWmG4p3"
   },
   "outputs": [],
   "source": [
    "import pandas as pd\n",
    "import numpy as np\n",
    "import seaborn as sns\n",
    "import matplotlib.pyplot as plt\n",
    "from sklearn.model_selection import train_test_split\n",
    "from sklearn.linear_model import LinearRegression\n",
    "from sklearn.metrics import mean_absolute_error\n",
    "%matplotlib inline"
   ]
  },
  {
   "cell_type": "markdown",
   "id": "28521be4",
   "metadata": {
    "id": "f9ojqu9mdfem"
   },
   "source": [
    "### Data Extraction and Preprocessing\n"
   ]
  },
  {
   "cell_type": "markdown",
   "id": "e91654d8",
   "metadata": {
    "id": "F7BqPf7fLI8w"
   },
   "source": [
    "Pandas provides the function **read_csv** which can be used to read csv files and import the data from both the local memory and any link to csv over the internet."
   ]
  },
  {
   "cell_type": "code",
   "execution_count": 2,
   "id": "a87444a8",
   "metadata": {
    "colab": {
     "base_uri": "https://localhost:8080/",
     "height": 203
    },
    "id": "WWSHkB-bc-wp",
    "outputId": "2e2328f3-ed4c-44d2-da13-eee143d3bff0"
   },
   "outputs": [
    {
     "data": {
      "text/html": [
       "<div>\n",
       "<style scoped>\n",
       "    .dataframe tbody tr th:only-of-type {\n",
       "        vertical-align: middle;\n",
       "    }\n",
       "\n",
       "    .dataframe tbody tr th {\n",
       "        vertical-align: top;\n",
       "    }\n",
       "\n",
       "    .dataframe thead th {\n",
       "        text-align: right;\n",
       "    }\n",
       "</style>\n",
       "<table border=\"1\" class=\"dataframe\">\n",
       "  <thead>\n",
       "    <tr style=\"text-align: right;\">\n",
       "      <th></th>\n",
       "      <th>Hours</th>\n",
       "      <th>Scores</th>\n",
       "    </tr>\n",
       "  </thead>\n",
       "  <tbody>\n",
       "    <tr>\n",
       "      <th>0</th>\n",
       "      <td>2.5</td>\n",
       "      <td>21</td>\n",
       "    </tr>\n",
       "    <tr>\n",
       "      <th>1</th>\n",
       "      <td>5.1</td>\n",
       "      <td>47</td>\n",
       "    </tr>\n",
       "    <tr>\n",
       "      <th>2</th>\n",
       "      <td>3.2</td>\n",
       "      <td>27</td>\n",
       "    </tr>\n",
       "    <tr>\n",
       "      <th>3</th>\n",
       "      <td>8.5</td>\n",
       "      <td>75</td>\n",
       "    </tr>\n",
       "    <tr>\n",
       "      <th>4</th>\n",
       "      <td>3.5</td>\n",
       "      <td>30</td>\n",
       "    </tr>\n",
       "  </tbody>\n",
       "</table>\n",
       "</div>"
      ],
      "text/plain": [
       "   Hours  Scores\n",
       "0    2.5      21\n",
       "1    5.1      47\n",
       "2    3.2      27\n",
       "3    8.5      75\n",
       "4    3.5      30"
      ]
     },
     "execution_count": 2,
     "metadata": {},
     "output_type": "execute_result"
    }
   ],
   "source": [
    "dataset = pd.read_csv('http://bit.ly/w-data')\n",
    "dataset.head()"
   ]
  },
  {
   "cell_type": "code",
   "execution_count": 3,
   "id": "967d034b",
   "metadata": {
    "colab": {
     "base_uri": "https://localhost:8080/",
     "height": 295
    },
    "id": "YlWWSLm7dfK5",
    "outputId": "e27a9ce4-16f4-44c4-c4d4-6ce3e377c3b5"
   },
   "outputs": [
    {
     "data": {
      "text/html": [
       "<div>\n",
       "<style scoped>\n",
       "    .dataframe tbody tr th:only-of-type {\n",
       "        vertical-align: middle;\n",
       "    }\n",
       "\n",
       "    .dataframe tbody tr th {\n",
       "        vertical-align: top;\n",
       "    }\n",
       "\n",
       "    .dataframe thead th {\n",
       "        text-align: right;\n",
       "    }\n",
       "</style>\n",
       "<table border=\"1\" class=\"dataframe\">\n",
       "  <thead>\n",
       "    <tr style=\"text-align: right;\">\n",
       "      <th></th>\n",
       "      <th>Hours</th>\n",
       "      <th>Scores</th>\n",
       "    </tr>\n",
       "  </thead>\n",
       "  <tbody>\n",
       "    <tr>\n",
       "      <th>count</th>\n",
       "      <td>25.000000</td>\n",
       "      <td>25.000000</td>\n",
       "    </tr>\n",
       "    <tr>\n",
       "      <th>mean</th>\n",
       "      <td>5.012000</td>\n",
       "      <td>51.480000</td>\n",
       "    </tr>\n",
       "    <tr>\n",
       "      <th>std</th>\n",
       "      <td>2.525094</td>\n",
       "      <td>25.286887</td>\n",
       "    </tr>\n",
       "    <tr>\n",
       "      <th>min</th>\n",
       "      <td>1.100000</td>\n",
       "      <td>17.000000</td>\n",
       "    </tr>\n",
       "    <tr>\n",
       "      <th>25%</th>\n",
       "      <td>2.700000</td>\n",
       "      <td>30.000000</td>\n",
       "    </tr>\n",
       "    <tr>\n",
       "      <th>50%</th>\n",
       "      <td>4.800000</td>\n",
       "      <td>47.000000</td>\n",
       "    </tr>\n",
       "    <tr>\n",
       "      <th>75%</th>\n",
       "      <td>7.400000</td>\n",
       "      <td>75.000000</td>\n",
       "    </tr>\n",
       "    <tr>\n",
       "      <th>max</th>\n",
       "      <td>9.200000</td>\n",
       "      <td>95.000000</td>\n",
       "    </tr>\n",
       "  </tbody>\n",
       "</table>\n",
       "</div>"
      ],
      "text/plain": [
       "           Hours     Scores\n",
       "count  25.000000  25.000000\n",
       "mean    5.012000  51.480000\n",
       "std     2.525094  25.286887\n",
       "min     1.100000  17.000000\n",
       "25%     2.700000  30.000000\n",
       "50%     4.800000  47.000000\n",
       "75%     7.400000  75.000000\n",
       "max     9.200000  95.000000"
      ]
     },
     "execution_count": 3,
     "metadata": {},
     "output_type": "execute_result"
    }
   ],
   "source": [
    "#Generating the descriptive statistics\n",
    "dataset.describe()"
   ]
  },
  {
   "cell_type": "code",
   "execution_count": 4,
   "id": "80bd697c",
   "metadata": {
    "colab": {
     "base_uri": "https://localhost:8080/"
    },
    "id": "aw5tF-nHG7Lh",
    "outputId": "b5624b7c-0d06-41ff-d8d7-c7e39fa57ed1"
   },
   "outputs": [
    {
     "name": "stdout",
     "output_type": "stream",
     "text": [
      "<class 'pandas.core.frame.DataFrame'>\n",
      "RangeIndex: 25 entries, 0 to 24\n",
      "Data columns (total 2 columns):\n",
      " #   Column  Non-Null Count  Dtype  \n",
      "---  ------  --------------  -----  \n",
      " 0   Hours   25 non-null     float64\n",
      " 1   Scores  25 non-null     int64  \n",
      "dtypes: float64(1), int64(1)\n",
      "memory usage: 528.0 bytes\n"
     ]
    }
   ],
   "source": [
    "#Checking for any null values\n",
    "dataset.info()"
   ]
  },
  {
   "cell_type": "markdown",
   "id": "2ba4b860",
   "metadata": {
    "id": "eY-E55jvnk8I"
   },
   "source": [
    "### Data visualisation\n"
   ]
  },
  {
   "cell_type": "markdown",
   "id": "01f08d43",
   "metadata": {
    "id": "1c7YeFOxmKh6"
   },
   "source": [
    "Plotting our data points on 2-D graph gives us a basic idea of what trend the data follows. With the help of visualizations we eyeball our dataset and see if we can manually find any relationship between the data."
   ]
  },
  {
   "cell_type": "code",
   "execution_count": 5,
   "id": "5c1eaa07",
   "metadata": {
    "colab": {
     "base_uri": "https://localhost:8080/",
     "height": 404
    },
    "id": "dzLKSjPyG7Qr",
    "outputId": "ab72b337-4eb3-4e5c-e5a6-3c474e4d25b1"
   },
   "outputs": [
    {
     "data": {
      "image/png": "[encoded data removed]",
      "text/plain": [
       "<Figure size 720x432 with 1 Axes>"
      ]
     },
     "metadata": {
      "needs_background": "light"
     },
     "output_type": "display_data"
    }
   ],
   "source": [
    "fig = plt.figure(figsize = (10,6))\n",
    "plt.scatter(dataset['Hours'],dataset['Scores'])\n",
    "plt.xlabel('Hours Studies')\n",
    "plt.ylabel('Percentage Scored')\n",
    "plt.title('Performance based on Hours Studied')\n",
    "plt.show()"
   ]
  },
  {
   "cell_type": "markdown",
   "id": "2693397f",
   "metadata": {
    "id": "RgQMpYx3LUyj"
   },
   "source": [
    "From the graph above, we can clearly see that there is a positive linear relation between the number of hours studied and percentage of score."
   ]
  },
  {
   "cell_type": "markdown",
   "id": "74297afd",
   "metadata": {
    "id": "JtWgYsOzh2HB"
   },
   "source": [
    "### Data Preparation"
   ]
  },
  {
   "cell_type": "markdown",
   "id": "9d2d4d2e",
   "metadata": {
    "id": "485xn2coh6pJ"
   },
   "source": [
    "The next step is to divide the data into \"features\" (inputs) and \"labels\" (outputs)."
   ]
  },
  {
   "cell_type": "code",
   "execution_count": 6,
   "id": "59075968",
   "metadata": {
    "colab": {
     "base_uri": "https://localhost:8080/"
    },
    "id": "tr4IN181G7UI",
    "outputId": "417ff7fe-ad69-4284-d250-fb49f474495b"
   },
   "outputs": [
    {
     "name": "stdout",
     "output_type": "stream",
     "text": [
      "(25, 1) (25,)\n"
     ]
    }
   ],
   "source": [
    "X = dataset.iloc[:,:-1].values\n",
    "Y = dataset.iloc[:,1].values\n",
    "print(X.shape, Y.shape)"
   ]
  },
  {
   "cell_type": "markdown",
   "id": "8636bcf9",
   "metadata": {
    "id": "OKdRdHsNiQlC"
   },
   "source": [
    "Now after getting features and lables, we can split the dataset into train and test sets. The train set size will be 80% of the original dataset and the test set will be the remaining data, i.e., 20% of the original dataset"
   ]
  },
  {
   "cell_type": "code",
   "execution_count": 7,
   "id": "c1d8d464",
   "metadata": {
    "colab": {
     "base_uri": "https://localhost:8080/"
    },
    "id": "tZ8qe9ganpRv",
    "outputId": "6d263c0b-6e01-47d0-9b97-37e914b3783f"
   },
   "outputs": [
    {
     "name": "stdout",
     "output_type": "stream",
     "text": [
      "Train Size = 20 \n",
      "Test Size = 5\n"
     ]
    }
   ],
   "source": [
    "X_train, X_test, Y_train, Y_test = train_test_split(X,Y,train_size = 0.8, random_state = 0)\n",
    "#set random state to get same or consistent(reproducible) results\n",
    "print(\"Train Size =\",X_train.size,\"\\nTest Size =\",X_test.size)"
   ]
  },
  {
   "cell_type": "markdown",
   "id": "45ea253c",
   "metadata": {
    "id": "l3MQ6mQ-i5sG"
   },
   "source": [
    "### Linear Regression Model"
   ]
  },
  {
   "cell_type": "markdown",
   "id": "2f1f93a9",
   "metadata": {
    "id": "p_wp3FYJi-9A"
   },
   "source": [
    "We will train the linear regression model on the train set and then predict the lables for the test data."
   ]
  },
  {
   "cell_type": "code",
   "execution_count": 8,
   "id": "c7ed58c2",
   "metadata": {
    "colab": {
     "base_uri": "https://localhost:8080/"
    },
    "id": "WqV8FHgSooen",
    "outputId": "cf1f9fc4-516a-47ab-cfe7-b91de1a36e15"
   },
   "outputs": [
    {
     "data": {
      "text/plain": [
       "LinearRegression()"
      ]
     },
     "execution_count": 8,
     "metadata": {},
     "output_type": "execute_result"
    }
   ],
   "source": [
    "model = LinearRegression()\n",
    "model.fit(X_train,Y_train)"
   ]
  },
  {
   "cell_type": "code",
   "execution_count": 9,
   "id": "77cea555",
   "metadata": {
    "id": "VM33dFzZoobg"
   },
   "outputs": [],
   "source": [
    "Y_pred = model.predict(X_test)"
   ]
  },
  {
   "cell_type": "code",
   "execution_count": 10,
   "id": "29ed5005",
   "metadata": {
    "colab": {
     "base_uri": "https://localhost:8080/",
     "height": 404
    },
    "id": "3XmCo_qfePAK",
    "outputId": "cb502da2-1311-4566-e1db-9eedc1c2f40f"
   },
   "outputs": [
    {
     "data": {
      "image/png": "[encoded data removed]",
      "text/plain": [
       "<Figure size 720x432 with 1 Axes>"
      ]
     },
     "metadata": {
      "needs_background": "light"
     },
     "output_type": "display_data"
    }
   ],
   "source": [
    "fig = plt.figure(figsize = (10,6))\n",
    "plt.scatter(dataset['Hours'],dataset['Scores'])\n",
    "plt.plot(X, ((X*model.coef_) + model.intercept_), color = 'red')\n",
    "plt.xlabel('Hours')\n",
    "plt.ylabel('Scores')\n",
    "plt.title('Performance based on Hours Studied')\n",
    "plt.show()"
   ]
  },
  {
   "cell_type": "markdown",
   "id": "a28571bd",
   "metadata": {
    "id": "xOzaKbWJkjGA"
   },
   "source": [
    "From the above graph, it is evident that the model is giving a well generalised prediction. A similar conclusion can be derived from the table below, which shows that the predicted and the actual values a quite close. "
   ]
  },
  {
   "cell_type": "code",
   "execution_count": 11,
   "id": "9c276e2d",
   "metadata": {
    "colab": {
     "base_uri": "https://localhost:8080/",
     "height": 203
    },
    "id": "9-uJu8VffhTS",
    "outputId": "c1673c8f-2085-4383-e30c-dafd5dbd808d"
   },
   "outputs": [
    {
     "data": {
      "text/html": [
       "<div>\n",
       "<style scoped>\n",
       "    .dataframe tbody tr th:only-of-type {\n",
       "        vertical-align: middle;\n",
       "    }\n",
       "\n",
       "    .dataframe tbody tr th {\n",
       "        vertical-align: top;\n",
       "    }\n",
       "\n",
       "    .dataframe thead th {\n",
       "        text-align: right;\n",
       "    }\n",
       "</style>\n",
       "<table border=\"1\" class=\"dataframe\">\n",
       "  <thead>\n",
       "    <tr style=\"text-align: right;\">\n",
       "      <th></th>\n",
       "      <th>Predicted</th>\n",
       "      <th>Actual</th>\n",
       "    </tr>\n",
       "  </thead>\n",
       "  <tbody>\n",
       "    <tr>\n",
       "      <th>0</th>\n",
       "      <td>16.884145</td>\n",
       "      <td>20</td>\n",
       "    </tr>\n",
       "    <tr>\n",
       "      <th>1</th>\n",
       "      <td>33.732261</td>\n",
       "      <td>27</td>\n",
       "    </tr>\n",
       "    <tr>\n",
       "      <th>2</th>\n",
       "      <td>75.357018</td>\n",
       "      <td>69</td>\n",
       "    </tr>\n",
       "    <tr>\n",
       "      <th>3</th>\n",
       "      <td>26.794801</td>\n",
       "      <td>30</td>\n",
       "    </tr>\n",
       "    <tr>\n",
       "      <th>4</th>\n",
       "      <td>60.491033</td>\n",
       "      <td>62</td>\n",
       "    </tr>\n",
       "  </tbody>\n",
       "</table>\n",
       "</div>"
      ],
      "text/plain": [
       "   Predicted  Actual\n",
       "0  16.884145      20\n",
       "1  33.732261      27\n",
       "2  75.357018      69\n",
       "3  26.794801      30\n",
       "4  60.491033      62"
      ]
     },
     "execution_count": 11,
     "metadata": {},
     "output_type": "execute_result"
    }
   ],
   "source": [
    "Data_y = pd.DataFrame({'Predicted':Y_pred,'Actual':Y_test})\n",
    "Data_y"
   ]
  },
  {
   "cell_type": "markdown",
   "id": "7d7357f8",
   "metadata": {
    "id": "aAWfrydkkBKV"
   },
   "source": [
    "### Model Evaluation"
   ]
  },
  {
   "cell_type": "markdown",
   "id": "771bf72a",
   "metadata": {
    "id": "DxgEBuZ8lUWV"
   },
   "source": [
    "Evaluating the performance of the algorithm is particularly important to compare how well different algorithms perform on a particular dataset. The simplest metric is the **Mean Absolute Error or M.A.E.**. The lower the M.A.E. the better is the model performance. There are many such metrics."
   ]
  },
  {
   "cell_type": "code",
   "execution_count": 12,
   "id": "5110a33c",
   "metadata": {
    "colab": {
     "base_uri": "https://localhost:8080/"
    },
    "id": "t51RINAReOU0",
    "outputId": "168870fe-8bb2-4cb6-c470-620883da7fec"
   },
   "outputs": [
    {
     "name": "stdout",
     "output_type": "stream",
     "text": [
      "MAE: 4.183859899002975\n"
     ]
    }
   ],
   "source": [
    "print('MAE:', mean_absolute_error(Y_test, Y_pred)) "
   ]
  },
  {
   "cell_type": "markdown",
   "id": "499d8357",
   "metadata": {
    "id": "Dde62rtujbtG"
   },
   "source": [
    "### Problem Solution"
   ]
  },
  {
   "cell_type": "markdown",
   "id": "84a32ba8",
   "metadata": {
    "id": "gHSdRZYCjvEm"
   },
   "source": [
    "Using the above linear regression model we will predict the approximate scores if a student studies for 9.25 hrs/day. "
   ]
  },
  {
   "cell_type": "code",
   "execution_count": 13,
   "id": "a9538e76",
   "metadata": {
    "colab": {
     "base_uri": "https://localhost:8080/"
    },
    "id": "j2h_uLVfeOtQ",
    "outputId": "80c8fb52-eaf7-4893-aead-bfa710902596"
   },
   "outputs": [
    {
     "name": "stdout",
     "output_type": "stream",
     "text": [
      "Average Score Predicted by algorithm for a student who studies 9.5 hrs = 96.17%\n"
     ]
    }
   ],
   "source": [
    "Score = model.predict(np.array(9.5).reshape(1,1))\n",
    "print(\"Average Score Predicted by algorithm for a student who studies 9.5 hrs = {}%\".format(round(Score[0],2)))"
   ]
  }
 ],
 "metadata": {
  "kernelspec": {
   "display_name": "Python 3",
   "language": "python",
   "name": "python3"
  },
  "language_info": {
   "codemirror_mode": {
    "name": "ipython",
    "version": 3
   },
   "file_extension": ".py",
   "mimetype": "text/x-python",
   "name": "python",
   "nbconvert_exporter": "python",
   "pygments_lexer": "ipython3",
   "version": "3.8.8"
  }
 },
 "nbformat": 4,
 "nbformat_minor": 5
}
