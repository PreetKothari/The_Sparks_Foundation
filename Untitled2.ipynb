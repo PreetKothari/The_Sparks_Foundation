{
 "cells": [
  {
   "cell_type": "markdown",
   "id": "4c977b5b",
   "metadata": {},
   "source": [
    "<h2 align=\"center\"> Task 1: Prediction Using Supervised ML </h2>\n",
    "<h4 align=\"center\"> Preet Kothari </h4>\n",
    "<h3 align=\"center\"> The Sparks Fundation - GRIP </h3>\n",
    "\n",
    "* Problem: Predict the percentage of a student based on the number of study hours. What will be predicted score if a student studies for 9.25 hrs/ day?\n",
    "* The dataset can be found at: http://bit.ly/w-data"
   ]
  },
  {
   "cell_type": "code",
   "execution_count": null,
   "id": "2a79c44d",
   "metadata": {},
   "outputs": [],
   "source": []
  },
  {
   "cell_type": "code",
   "execution_count": null,
   "id": "bfc8746d",
   "metadata": {},
   "outputs": [],
   "source": []
  },
  {
   "cell_type": "code",
   "execution_count": null,
   "id": "d07fc7fa",
   "metadata": {},
   "outputs": [],
   "source": []
  }
 ],
 "metadata": {
  "kernelspec": {
   "display_name": "Python 3",
   "language": "python",
   "name": "python3"
  },
  "language_info": {
   "codemirror_mode": {
    "name": "ipython",
    "version": 3
   },
   "file_extension": ".py",
   "mimetype": "text/x-python",
   "name": "python",
   "nbconvert_exporter": "python",
   "pygments_lexer": "ipython3",
   "version": "3.8.8"
  }
 },
 "nbformat": 4,
 "nbformat_minor": 5
}
